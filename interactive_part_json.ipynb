{
 "cells": [
  {
   "cell_type": "code",
   "execution_count": 1,
   "metadata": {
    "collapsed": true
   },
   "outputs": [],
   "source": [
    "import numpy as np\n",
    "import pandas as pd"
   ]
  },
  {
   "cell_type": "code",
   "execution_count": 2,
   "metadata": {
    "collapsed": true
   },
   "outputs": [],
   "source": [
    "data = pd.read_csv('data_cleaned.csv')"
   ]
  },
  {
   "cell_type": "code",
   "execution_count": 3,
   "metadata": {
    "collapsed": true
   },
   "outputs": [],
   "source": [
    "# convert nan into -1.0\n",
    "#data['Incident Zip'] = data['Incident Zip'].fillna(-1.0).astype(int)"
   ]
  },
  {
   "cell_type": "code",
   "execution_count": 4,
   "metadata": {},
   "outputs": [],
   "source": [
    "data['Created AM/PM'] = data['Created Date'].str.split().str[2]"
   ]
  },
  {
   "cell_type": "code",
   "execution_count": 5,
   "metadata": {
    "collapsed": true
   },
   "outputs": [],
   "source": [
    "# create a dictionary to represent the parents-children relationship in data\n",
    "d0 = {}\n",
    "d0['name'] = 'New York City'\n",
    "d0['value'] = data.shape[0]\n",
    "d0['children'] = []"
   ]
  },
  {
   "cell_type": "code",
   "execution_count": 6,
   "metadata": {
    "collapsed": true
   },
   "outputs": [],
   "source": [
    "# level1: total times of complaints of each borough\n",
    "level1 = data.groupby('Borough').size().reset_index(name = \"Times\")"
   ]
  },
  {
   "cell_type": "code",
   "execution_count": 7,
   "metadata": {
    "collapsed": true
   },
   "outputs": [],
   "source": [
    "# add summarized records in boroughs into d['children']\n",
    "for i in range(len(level1)):\n",
    "    d1 = {}\n",
    "    d1['name'] = level1.iloc[i]['Borough']\n",
    "    d1['value'] = level1.iloc[i]['Times']\n",
    "    d1['children'] = []\n",
    "    d0['children'].append(d1)"
   ]
  },
  {
   "cell_type": "code",
   "execution_count": 8,
   "metadata": {
    "collapsed": true
   },
   "outputs": [],
   "source": [
    "# sort in the order of the complaints times of each borough\n",
    "d0['children'] = sorted(d0['children'], key=lambda x: x['value'], reverse=True)"
   ]
  },
  {
   "cell_type": "code",
   "execution_count": 9,
   "metadata": {
    "collapsed": true
   },
   "outputs": [],
   "source": [
    "# level2: total times of complaints of each descriptor with corresponding borough\n",
    "level2 = data.groupby(['Borough', 'Descriptor']).size().reset_index(name = \"Times\")"
   ]
  },
  {
   "cell_type": "code",
   "execution_count": 10,
   "metadata": {
    "collapsed": true
   },
   "outputs": [],
   "source": [
    "# add summarized records in level2\n",
    "# into 'children' of each borough in d['children']\n",
    "for i in range(len(level2)):\n",
    "    d2 = {}\n",
    "    #if level2.iloc[i]['Descriptor'] == -1:\n",
    "    #    d2['name'] = 'NaN'\n",
    "    #else:\n",
    "    d2['name'] = str(level2.iloc[i]['Descriptor'])\n",
    "    d2['value'] = level2.iloc[i]['Times']\n",
    "    d2['children'] = []\n",
    "    \n",
    "    # add records to corresponding borough\n",
    "    for j in d0['children']:\n",
    "        if j['name'] == level2.iloc[i]['Borough']:\n",
    "            j['children'].append(d2)"
   ]
  },
  {
   "cell_type": "code",
   "execution_count": 11,
   "metadata": {
    "collapsed": true
   },
   "outputs": [],
   "source": [
    "# sort in the order of the complaints times of each zip code\n",
    "for l1 in range(len(d0['children'])):\n",
    "    d0['children'][l1]['children'] = sorted(d0['children'][l1]['children'], key=lambda x: x['value'], reverse=True)"
   ]
  },
  {
   "cell_type": "code",
   "execution_count": 12,
   "metadata": {},
   "outputs": [],
   "source": [
    "# level3: total times of complaints of AM or PM with corresponding boroughs & descriptors\n",
    "level3 = data.groupby(['Borough', 'Descriptor', 'Created AM/PM']).size().reset_index(name = \"Times\")"
   ]
  },
  {
   "cell_type": "code",
   "execution_count": 13,
   "metadata": {
    "collapsed": true
   },
   "outputs": [],
   "source": [
    "# add summarized records in level3\n",
    "# into 'children' of each descriptor of each borough in d['children']\n",
    "for i in range(len(level3)):\n",
    "    d3 = {}\n",
    "    d3['name'] = str(level3.iloc[i]['Created AM/PM'])\n",
    "    d3['value'] = level3.iloc[i]['Times']\n",
    "    \n",
    "    # add records to corresponding descriptor\n",
    "    for j in d0['children']:\n",
    "        if j['name'] == level3.iloc[i]['Borough']:\n",
    "            for k in j['children']:\n",
    "                if k['name'] == level3.iloc[i]['Descriptor']:\n",
    "                    k['children'].append(d3)"
   ]
  },
  {
   "cell_type": "code",
   "execution_count": 14,
   "metadata": {
    "collapsed": true
   },
   "outputs": [],
   "source": [
    "# sort in the order of the complaints times of AM or PM\n",
    "for l1 in range(len(d0['children'])):\n",
    "    for l2 in range(len(d0['children'][l1]['children'])):\n",
    "        d0['children'][l1]['children'][l2]['children'] = sorted(d0['children'][l1]['children'][l2]['children'], key=lambda x: x['value'], reverse=True)"
   ]
  },
  {
   "cell_type": "code",
   "execution_count": 15,
   "metadata": {},
   "outputs": [
    {
     "data": {
      "text/plain": [
       "{'children': [{'children': [{'children': [{'name': 'PM', 'value': 188},\n",
       "      {'name': 'AM', 'value': 126}],\n",
       "     'name': 'Clear Water With Other Particles (Use Comments) (QEZ)',\n",
       "     'value': 314},\n",
       "    {'children': [{'name': 'PM', 'value': 193}, {'name': 'AM', 'value': 117}],\n",
       "     'name': 'Cloudy Or Milky Water (QB1)',\n",
       "     'value': 310},\n",
       "    {'children': [{'name': 'PM', 'value': 155}, {'name': 'AM', 'value': 109}],\n",
       "     'name': 'Taste/Odor, Chemical (QA2)',\n",
       "     'value': 264},\n",
       "    {'children': [{'name': 'PM', 'value': 165}, {'name': 'AM', 'value': 93}],\n",
       "     'name': 'unknown odor/taste in drinking water (QA6)',\n",
       "     'value': 258},\n",
       "    {'children': [{'name': 'PM', 'value': 160}, {'name': 'AM', 'value': 80}],\n",
       "     'name': 'Taste/Odor, Chlorine (QA1)',\n",
       "     'value': 240},\n",
       "    {'children': [{'name': 'PM', 'value': 144}, {'name': 'AM', 'value': 77}],\n",
       "     'name': 'Taste/Odor, Bitter/Metallic (QA3)',\n",
       "     'value': 221},\n",
       "    {'children': [{'name': 'PM', 'value': 114}, {'name': 'AM', 'value': 70}],\n",
       "     'name': 'Taste/Odor, Sewer (QA5)',\n",
       "     'value': 184},\n",
       "    {'children': [{'name': 'PM', 'value': 119}, {'name': 'AM', 'value': 63}],\n",
       "     'name': 'No Sampling Required, Requested Information (QG2)',\n",
       "     'value': 182},\n",
       "    {'children': [{'name': 'PM', 'value': 125}, {'name': 'AM', 'value': 52}],\n",
       "     'name': 'Taste/Odor, Musty/Stale (QA4)',\n",
       "     'value': 177},\n",
       "    {'children': [{'name': 'PM', 'value': 103}, {'name': 'AM', 'value': 63}],\n",
       "     'name': 'Cloudy Or Milky, Other (Use Comments) (QBZ)',\n",
       "     'value': 166},\n",
       "    {'children': [{'name': 'PM', 'value': 43}, {'name': 'AM', 'value': 29}],\n",
       "     'name': 'Oil, Grease In Water (QD1)',\n",
       "     'value': 72},\n",
       "    {'children': [{'name': 'PM', 'value': 40}, {'name': 'AM', 'value': 20}],\n",
       "     'name': 'Defective Water Sampling Station (QSS)',\n",
       "     'value': 60},\n",
       "    {'children': [{'name': 'PM', 'value': 31}, {'name': 'AM', 'value': 29}],\n",
       "     'name': 'Other Water Problem (Use Comments) (QZZ)',\n",
       "     'value': 60},\n",
       "    {'children': [{'name': 'PM', 'value': 9}, {'name': 'AM', 'value': 4}],\n",
       "     'name': 'Clear Water With Organisms (Insects, Worms) (QE2)',\n",
       "     'value': 13}],\n",
       "   'name': 'BROOKLYN',\n",
       "   'value': 2521},\n",
       "  {'children': [{'children': [{'name': 'PM', 'value': 218},\n",
       "      {'name': 'AM', 'value': 121}],\n",
       "     'name': 'Cloudy Or Milky Water (QB1)',\n",
       "     'value': 339},\n",
       "    {'children': [{'name': 'PM', 'value': 180}, {'name': 'AM', 'value': 94}],\n",
       "     'name': 'Clear Water With Other Particles (Use Comments) (QEZ)',\n",
       "     'value': 274},\n",
       "    {'children': [{'name': 'PM', 'value': 163}, {'name': 'AM', 'value': 79}],\n",
       "     'name': 'No Sampling Required, Requested Information (QG2)',\n",
       "     'value': 242},\n",
       "    {'children': [{'name': 'PM', 'value': 129}, {'name': 'AM', 'value': 99}],\n",
       "     'name': 'Taste/Odor, Chemical (QA2)',\n",
       "     'value': 228},\n",
       "    {'children': [{'name': 'PM', 'value': 137}, {'name': 'AM', 'value': 80}],\n",
       "     'name': 'unknown odor/taste in drinking water (QA6)',\n",
       "     'value': 217},\n",
       "    {'children': [{'name': 'PM', 'value': 119}, {'name': 'AM', 'value': 85}],\n",
       "     'name': 'Taste/Odor, Chlorine (QA1)',\n",
       "     'value': 204},\n",
       "    {'children': [{'name': 'PM', 'value': 137}, {'name': 'AM', 'value': 59}],\n",
       "     'name': 'Taste/Odor, Sewer (QA5)',\n",
       "     'value': 196},\n",
       "    {'children': [{'name': 'PM', 'value': 120}, {'name': 'AM', 'value': 71}],\n",
       "     'name': 'Taste/Odor, Bitter/Metallic (QA3)',\n",
       "     'value': 191},\n",
       "    {'children': [{'name': 'PM', 'value': 106}, {'name': 'AM', 'value': 67}],\n",
       "     'name': 'Taste/Odor, Musty/Stale (QA4)',\n",
       "     'value': 173},\n",
       "    {'children': [{'name': 'PM', 'value': 80}, {'name': 'AM', 'value': 37}],\n",
       "     'name': 'Cloudy Or Milky, Other (Use Comments) (QBZ)',\n",
       "     'value': 117},\n",
       "    {'children': [{'name': 'PM', 'value': 37}, {'name': 'AM', 'value': 24}],\n",
       "     'name': 'Oil, Grease In Water (QD1)',\n",
       "     'value': 61},\n",
       "    {'children': [{'name': 'PM', 'value': 32}, {'name': 'AM', 'value': 22}],\n",
       "     'name': 'Other Water Problem (Use Comments) (QZZ)',\n",
       "     'value': 54},\n",
       "    {'children': [{'name': 'PM', 'value': 19}, {'name': 'AM', 'value': 4}],\n",
       "     'name': 'Clear Water With Organisms (Insects, Worms) (QE2)',\n",
       "     'value': 23},\n",
       "    {'children': [{'name': 'PM', 'value': 12}, {'name': 'AM', 'value': 9}],\n",
       "     'name': 'Defective Water Sampling Station (QSS)',\n",
       "     'value': 21},\n",
       "    {'children': [{'name': 'PM', 'value': 1}],\n",
       "     'name': 'BWSO Referral To Water Quality (For DEP Internal Use Only)',\n",
       "     'value': 1},\n",
       "    {'children': [{'name': 'AM', 'value': 1}],\n",
       "     'name': 'Taste/Odor - Musty/Stale',\n",
       "     'value': 1}],\n",
       "   'name': 'QUEENS',\n",
       "   'value': 2342},\n",
       "  {'children': [{'children': [{'name': 'PM', 'value': 219},\n",
       "      {'name': 'AM', 'value': 125}],\n",
       "     'name': 'Cloudy Or Milky Water (QB1)',\n",
       "     'value': 344},\n",
       "    {'children': [{'name': 'PM', 'value': 149}, {'name': 'AM', 'value': 83}],\n",
       "     'name': 'Clear Water With Other Particles (Use Comments) (QEZ)',\n",
       "     'value': 232},\n",
       "    {'children': [{'name': 'PM', 'value': 157}, {'name': 'AM', 'value': 73}],\n",
       "     'name': 'Taste/Odor, Chemical (QA2)',\n",
       "     'value': 230},\n",
       "    {'children': [{'name': 'PM', 'value': 127}, {'name': 'AM', 'value': 83}],\n",
       "     'name': 'unknown odor/taste in drinking water (QA6)',\n",
       "     'value': 210},\n",
       "    {'children': [{'name': 'PM', 'value': 125}, {'name': 'AM', 'value': 64}],\n",
       "     'name': 'Taste/Odor, Bitter/Metallic (QA3)',\n",
       "     'value': 189},\n",
       "    {'children': [{'name': 'PM', 'value': 120}, {'name': 'AM', 'value': 54}],\n",
       "     'name': 'Taste/Odor, Chlorine (QA1)',\n",
       "     'value': 174},\n",
       "    {'children': [{'name': 'PM', 'value': 105}, {'name': 'AM', 'value': 52}],\n",
       "     'name': 'Cloudy Or Milky, Other (Use Comments) (QBZ)',\n",
       "     'value': 157},\n",
       "    {'children': [{'name': 'PM', 'value': 97}, {'name': 'AM', 'value': 58}],\n",
       "     'name': 'Taste/Odor, Musty/Stale (QA4)',\n",
       "     'value': 155},\n",
       "    {'children': [{'name': 'PM', 'value': 97}, {'name': 'AM', 'value': 55}],\n",
       "     'name': 'No Sampling Required, Requested Information (QG2)',\n",
       "     'value': 152},\n",
       "    {'children': [{'name': 'PM', 'value': 86}, {'name': 'AM', 'value': 31}],\n",
       "     'name': 'Taste/Odor, Sewer (QA5)',\n",
       "     'value': 117},\n",
       "    {'children': [{'name': 'AM', 'value': 26}, {'name': 'PM', 'value': 26}],\n",
       "     'name': 'Other Water Problem (Use Comments) (QZZ)',\n",
       "     'value': 52},\n",
       "    {'children': [{'name': 'PM', 'value': 31}, {'name': 'AM', 'value': 18}],\n",
       "     'name': 'Defective Water Sampling Station (QSS)',\n",
       "     'value': 49},\n",
       "    {'children': [{'name': 'PM', 'value': 29}, {'name': 'AM', 'value': 20}],\n",
       "     'name': 'Oil, Grease In Water (QD1)',\n",
       "     'value': 49},\n",
       "    {'children': [{'name': 'PM', 'value': 7}, {'name': 'AM', 'value': 6}],\n",
       "     'name': 'Clear Water With Organisms (Insects, Worms) (QE2)',\n",
       "     'value': 13}],\n",
       "   'name': 'MANHATTAN',\n",
       "   'value': 2123},\n",
       "  {'children': [{'children': [{'name': 'PM', 'value': 112},\n",
       "      {'name': 'AM', 'value': 75}],\n",
       "     'name': 'Cloudy Or Milky Water (QB1)',\n",
       "     'value': 187},\n",
       "    {'children': [{'name': 'PM', 'value': 91}, {'name': 'AM', 'value': 55}],\n",
       "     'name': 'Clear Water With Other Particles (Use Comments) (QEZ)',\n",
       "     'value': 146},\n",
       "    {'children': [{'name': 'PM', 'value': 89}, {'name': 'AM', 'value': 45}],\n",
       "     'name': 'unknown odor/taste in drinking water (QA6)',\n",
       "     'value': 134},\n",
       "    {'children': [{'name': 'PM', 'value': 72}, {'name': 'AM', 'value': 34}],\n",
       "     'name': 'Taste/Odor, Sewer (QA5)',\n",
       "     'value': 106},\n",
       "    {'children': [{'name': 'PM', 'value': 55}, {'name': 'AM', 'value': 40}],\n",
       "     'name': 'Taste/Odor, Bitter/Metallic (QA3)',\n",
       "     'value': 95},\n",
       "    {'children': [{'name': 'PM', 'value': 65}, {'name': 'AM', 'value': 28}],\n",
       "     'name': 'Taste/Odor, Chemical (QA2)',\n",
       "     'value': 93},\n",
       "    {'children': [{'name': 'PM', 'value': 58}, {'name': 'AM', 'value': 33}],\n",
       "     'name': 'Cloudy Or Milky, Other (Use Comments) (QBZ)',\n",
       "     'value': 91},\n",
       "    {'children': [{'name': 'PM', 'value': 59}, {'name': 'AM', 'value': 20}],\n",
       "     'name': 'No Sampling Required, Requested Information (QG2)',\n",
       "     'value': 79},\n",
       "    {'children': [{'name': 'PM', 'value': 50}, {'name': 'AM', 'value': 20}],\n",
       "     'name': 'Taste/Odor, Chlorine (QA1)',\n",
       "     'value': 70},\n",
       "    {'children': [{'name': 'PM', 'value': 50}, {'name': 'AM', 'value': 19}],\n",
       "     'name': 'Taste/Odor, Musty/Stale (QA4)',\n",
       "     'value': 69},\n",
       "    {'children': [{'name': 'PM', 'value': 28}, {'name': 'AM', 'value': 11}],\n",
       "     'name': 'Oil, Grease In Water (QD1)',\n",
       "     'value': 39},\n",
       "    {'children': [{'name': 'PM', 'value': 18}, {'name': 'AM', 'value': 8}],\n",
       "     'name': 'Clear Water With Organisms (Insects, Worms) (QE2)',\n",
       "     'value': 26},\n",
       "    {'children': [{'name': 'PM', 'value': 13}, {'name': 'AM', 'value': 9}],\n",
       "     'name': 'Other Water Problem (Use Comments) (QZZ)',\n",
       "     'value': 22},\n",
       "    {'children': [{'name': 'PM', 'value': 8}, {'name': 'AM', 'value': 5}],\n",
       "     'name': 'Defective Water Sampling Station (QSS)',\n",
       "     'value': 13}],\n",
       "   'name': 'BRONX',\n",
       "   'value': 1170},\n",
       "  {'children': [{'children': [{'name': 'PM', 'value': 71},\n",
       "      {'name': 'AM', 'value': 32}],\n",
       "     'name': 'Cloudy Or Milky Water (QB1)',\n",
       "     'value': 103},\n",
       "    {'children': [{'name': 'PM', 'value': 64}, {'name': 'AM', 'value': 35}],\n",
       "     'name': 'Taste/Odor, Chemical (QA2)',\n",
       "     'value': 99},\n",
       "    {'children': [{'name': 'PM', 'value': 56}, {'name': 'AM', 'value': 28}],\n",
       "     'name': 'unknown odor/taste in drinking water (QA6)',\n",
       "     'value': 84},\n",
       "    {'children': [{'name': 'PM', 'value': 50}, {'name': 'AM', 'value': 26}],\n",
       "     'name': 'Taste/Odor, Musty/Stale (QA4)',\n",
       "     'value': 76},\n",
       "    {'children': [{'name': 'PM', 'value': 50}, {'name': 'AM', 'value': 25}],\n",
       "     'name': 'Taste/Odor, Chlorine (QA1)',\n",
       "     'value': 75},\n",
       "    {'children': [{'name': 'PM', 'value': 48}, {'name': 'AM', 'value': 26}],\n",
       "     'name': 'Clear Water With Other Particles (Use Comments) (QEZ)',\n",
       "     'value': 74},\n",
       "    {'children': [{'name': 'PM', 'value': 40}, {'name': 'AM', 'value': 27}],\n",
       "     'name': 'Taste/Odor, Sewer (QA5)',\n",
       "     'value': 67},\n",
       "    {'children': [{'name': 'PM', 'value': 40}, {'name': 'AM', 'value': 19}],\n",
       "     'name': 'No Sampling Required, Requested Information (QG2)',\n",
       "     'value': 59},\n",
       "    {'children': [{'name': 'PM', 'value': 28}, {'name': 'AM', 'value': 24}],\n",
       "     'name': 'Taste/Odor, Bitter/Metallic (QA3)',\n",
       "     'value': 52},\n",
       "    {'children': [{'name': 'PM', 'value': 25}, {'name': 'AM', 'value': 9}],\n",
       "     'name': 'Cloudy Or Milky, Other (Use Comments) (QBZ)',\n",
       "     'value': 34},\n",
       "    {'children': [{'name': 'PM', 'value': 19}, {'name': 'AM', 'value': 10}],\n",
       "     'name': 'Other Water Problem (Use Comments) (QZZ)',\n",
       "     'value': 29},\n",
       "    {'children': [{'name': 'PM', 'value': 12}, {'name': 'AM', 'value': 9}],\n",
       "     'name': 'Defective Water Sampling Station (QSS)',\n",
       "     'value': 21},\n",
       "    {'children': [{'name': 'PM', 'value': 13}, {'name': 'AM', 'value': 6}],\n",
       "     'name': 'Oil, Grease In Water (QD1)',\n",
       "     'value': 19},\n",
       "    {'children': [{'name': 'PM', 'value': 7}, {'name': 'AM', 'value': 4}],\n",
       "     'name': 'Clear Water With Organisms (Insects, Worms) (QE2)',\n",
       "     'value': 11}],\n",
       "   'name': 'STATEN ISLAND',\n",
       "   'value': 803}],\n",
       " 'name': 'New York City',\n",
       " 'value': 8959}"
      ]
     },
     "execution_count": 15,
     "metadata": {},
     "output_type": "execute_result"
    }
   ],
   "source": [
    "d0"
   ]
  },
  {
   "cell_type": "code",
   "execution_count": 16,
   "metadata": {
    "collapsed": true
   },
   "outputs": [],
   "source": [
    "import json\n",
    "\n",
    "class MyEncoder(json.JSONEncoder):\n",
    "    def default(self, obj):\n",
    "        if isinstance(obj, np.integer):\n",
    "            return int(obj)\n",
    "        elif isinstance(obj, np.floating):\n",
    "            return float(obj)\n",
    "        elif isinstance(obj, np.ndarray):\n",
    "            return obj.tolist()\n",
    "        else:\n",
    "            return super(MyEncoder, self).default(obj)"
   ]
  },
  {
   "cell_type": "code",
   "execution_count": 17,
   "metadata": {},
   "outputs": [],
   "source": [
    "with open('json_data.json', 'w') as fp:\n",
    "    json.dump(d0, fp, cls=MyEncoder)"
   ]
  }
 ],
 "metadata": {
  "kernelspec": {
   "display_name": "Python3",
   "language": "python",
   "name": "python3"
  },
  "language_info": {
   "codemirror_mode": {
    "name": "ipython",
    "version": 3
   },
   "file_extension": ".py",
   "mimetype": "text/x-python",
   "name": "python",
   "nbconvert_exporter": "python",
   "pygments_lexer": "ipython3",
   "version": "3.6.2"
  }
 },
 "nbformat": 4,
 "nbformat_minor": 2
}
